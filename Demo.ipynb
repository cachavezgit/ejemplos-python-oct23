{
  "cells": [
    {
      "cell_type": "code",
      "execution_count": 2,
      "metadata": {
        "trusted": true
      },
      "outputs": [
        {
          "name": "stdout",
          "output_type": "stream",
          "text": [
            "siguiente texto 'abc' está entrecomillado\n",
            "El siguiente texto 'abc' está entrecomill\n",
            "44\n",
            "44\n"
          ]
        }
      ],
      "source": [
        "mensaje1 = \"El siguiente texto 'abc' está entrecomillado\"\n",
        "mensaje2 = 'El siguiente texto \"abc\" está entrecomillado'\n",
        "\n",
        "#mensaje1 = 10\n",
        "\n",
        "print(mensaje1.removeprefix('El '))\n",
        "print(mensaje1.removesuffix('ado'))\n",
        "print(len(mensaje1))\n",
        "print(len(mensaje2))\n"
      ]
    },
    {
      "cell_type": "code",
      "execution_count": null,
      "metadata": {},
      "outputs": [],
      "source": []
    }
  ],
  "metadata": {
    "kernelspec": {
      "display_name": "Python 3",
      "language": "python",
      "name": "python3"
    },
    "language_info": {
      "codemirror_mode": {
        "name": "ipython",
        "version": 3
      },
      "file_extension": ".py",
      "mimetype": "text/x-python",
      "name": "python",
      "nbconvert_exporter": "python",
      "pygments_lexer": "ipython3",
      "version": "3.12.0"
    }
  },
  "nbformat": 4,
  "nbformat_minor": 4
}
